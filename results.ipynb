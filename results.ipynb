{
 "cells": [
  {
   "cell_type": "code",
   "execution_count": 2,
   "metadata": {},
   "outputs": [],
   "source": [
    "import pandas as pd\n",
    "import matplotlib.pyplot as plt\n",
    "import numpy as np\n",
    "\n",
    "def plot_pie_chart(original_labels, predicted_labels, title):\n",
    "    original_counts = pd.DataFrame(original_labels).value_counts()\n",
    "    predicted_counts = pd.DataFrame(predicted_labels).value_counts()\n",
    "    labelsTrain = []\n",
    "    for i in set(original_labels):\n",
    "        labelsTrain.append(f\"Class {i}\")\n",
    "    labelsTest = []\n",
    "    for i in set(predicted_labels):\n",
    "        labelsTest.append(f\"Class {i}\")\n",
    "    # Plotting the pies\n",
    "    fig, ax = plt.subplots(1, 2, figsize=(12, 6))\n",
    "\n",
    "\n",
    "    # Original Data Pie\n",
    "    ax[0].pie(original_counts, labels=labelsTrain, autopct='%1.1f%%', startangle=90)\n",
    "    ax[0].set_title('Original Data Classes')\n",
    "\n",
    "    # Predicted Data Pie\n",
    "    ax[1].pie(predicted_counts, labels=labelsTest, autopct='%1.1f%%', startangle=90)\n",
    "    ax[1].set_title('Predicted Data Classes')\n",
    "\n",
    "    fig.suptitle(title, fontsize=20)\n",
    "    # Display the plot\n",
    "    plt.show()"
   ]
  },
  {
   "cell_type": "code",
   "execution_count": 3,
   "metadata": {},
   "outputs": [],
   "source": [
    "from models import LogisticRegression\n",
    "# from constants import UNIVARIATE_DATASET_NAMES_2018\n",
    "from utils import read_dataset,  label_encoder\n",
    "\n",
    "UNIVARIATE_DATASET_NAMES_2018  = ['ArrowHead', 'Wine', 'FreezerSmallTrain', 'OliveOil', 'Car', 'BeetleFly',  'Yoga', 'InlineSkate', 'FaceAll', 'EOGVerticalSignal',  'Ham', 'MoteStrain','ProximalPhalanxTW',  'WordSynonyms', 'Lightning7', 'GunPointOldVersusYoung',  'Earthquakes' ]\n",
    "results=[]\n",
    "\n",
    "\n",
    "for dataset in UNIVARIATE_DATASET_NAMES_2018:\n",
    "    train_accuracies = []\n",
    "    test_accuracies = []\n",
    "    for i in range(10):\n",
    "        df = read_dataset(dataset)\n",
    "        X = df[dataset][0]\n",
    "        y = label_encoder(df[dataset][1])\n",
    "        model = LogisticRegression()\n",
    "        model.fit(X, y)\n",
    "        \n",
    "        y_pred_train = model.predict(X)\n",
    "\n",
    "        accuracy_train = model.score(y_pred_train, y)\n",
    "\n",
    "        y_pred_test = model.predict(df[dataset][2])\n",
    "\n",
    "        accuracy_test = model.score(y_pred_test, label_encoder(df[dataset][3]))\n",
    "\n",
    "        train_accuracies.append(accuracy_train)\n",
    "        test_accuracies.append(accuracy_test)\n",
    "    \n",
    "    # plot_pie_chart(y, y_pred_train, f\"{dataset} Train Dataset\")\n",
    "    # plot_pie_chart(df[dataset][3], y_pred_test, f\"{dataset} Test Dataset\")\n",
    "\n",
    "    # print(f\"{dataset} train: \",accuracy_train)\n",
    "    # print(f\"{dataset} test: \",accuracy_test)\n",
    "    mean_train_accuracy = np.mean(train_accuracies)\n",
    "    mean_test_accuracy = np.mean(test_accuracies)\n",
    "    results.append([dataset, \"%.2f\" % mean_train_accuracy, \"%.2f\" % mean_test_accuracy])\n",
    "\n"
   ]
  },
  {
   "cell_type": "code",
   "execution_count": 4,
   "metadata": {},
   "outputs": [],
   "source": [
    "results = pd.DataFrame(results, columns=[\"Dataset\",\"Train Accuracy\", \"Test Accuracy\"])"
   ]
  },
  {
   "cell_type": "code",
   "execution_count": 8,
   "metadata": {},
   "outputs": [
    {
     "name": "stdout",
     "output_type": "stream",
     "text": [
      "                   Dataset Train Accuracy Test Accuracy\n",
      "0                ArrowHead          95.56         73.54\n",
      "1                     Wine          51.93         60.93\n",
      "2        FreezerSmallTrain         100.00         68.79\n",
      "3                 OliveOil          47.67         43.00\n",
      "4                      Car          96.67         79.17\n",
      "5                BeetleFly         100.00         70.00\n",
      "6                     Yoga          70.83         62.24\n",
      "7              InlineSkate          74.40         22.91\n",
      "8                  FaceAll          81.09         64.46\n",
      "9        EOGVerticalSignal          62.51         26.44\n",
      "10                     Ham          97.52         68.57\n",
      "11              MoteStrain         100.00         83.54\n",
      "12       ProximalPhalanxTW          76.40         73.95\n",
      "13            WordSynonyms          71.72         37.82\n",
      "14              Lightning7         100.00         48.63\n",
      "15  GunPointOldVersusYoung          92.35         86.48\n",
      "16             Earthquakes          99.97         55.18\n"
     ]
    }
   ],
   "source": [
    "print(results)"
   ]
  },
  {
   "cell_type": "code",
   "execution_count": 9,
   "metadata": {},
   "outputs": [],
   "source": [
    "results.to_csv('results.csv', index=False)  "
   ]
  },
  {
   "cell_type": "code",
   "execution_count": 10,
   "metadata": {},
   "outputs": [
    {
     "name": "stdout",
     "output_type": "stream",
     "text": [
      "\u001b[92m                 Unnamed: 0        MLP         FCN     ResNet    Encoder  \\\n",
      "0                arrowhead  77.8(1.2)   84.3(1.5)  84.5(1.2)  80.4(2.9)   \n",
      "1                     wine  56.5(7.1)   58.7(8.3)  74.4(8.5)  50.0(0.0)   \n",
      "3                 oliveoil  66.7(3.8)  72.3(16.6)  83.0(8.5)  40.0(0.0)   \n",
      "4                      car  76.7(2.6)   90.5(1.4)  92.5(1.4)  75.8(2.0)   \n",
      "5                beetlefly  87.0(2.6)   86.0(9.7)  85.0(2.4)  74.5(7.6)   \n",
      "6                     yoga  85.5(0.4)   83.9(0.7)  87.0(0.9)  82.0(0.6)   \n",
      "7              inlineskate  33.7(1.0)   33.9(0.8)  37.3(0.9)  29.2(0.9)   \n",
      "8                  faceall  79.3(1.1)   94.5(0.9)  83.9(2.0)  79.3(0.8)   \n",
      "10                     ham  69.1(1.4)   71.8(1.4)  75.7(2.7)  72.7(1.2)   \n",
      "11              motestrain  85.8(0.9)   93.7(0.5)  92.8(0.5)  84.0(1.0)   \n",
      "12       proximalphalanxtw  76.7(0.7)   76.7(0.9)  78.0(1.7)  81.2(1.1)   \n",
      "13            wordsynonyms  59.8(0.8)   56.4(1.2)  62.2(1.5)  61.3(0.9)   \n",
      "14              lightning7  63.0(1.7)   82.7(2.3)  84.5(2.0)  62.5(2.3)   \n",
      "15  gunpointoldversusyoung  92.7(1.1)  100.0(0.0)  99.1(0.7)  93.6(3.2)   \n",
      "16             earthquakes  71.7(1.3)   72.7(1.7)  71.2(2.0)  74.8(0.7)   \n",
      "\n",
      "          MCNN    t-LeNet      MCDCNN   Time-CNN     TWIESN  \n",
      "0    33.9(4.7)  30.3(0.0)   68.5(6.7)  72.3(2.6)  65.9(9.4)  \n",
      "1    50.0(0.0)  50.0(0.0)   50.0(0.0)  51.7(5.1)  75.9(9.1)  \n",
      "3    38.0(4.2)  38.0(4.2)   40.0(0.0)  40.0(0.0)  79.0(6.1)  \n",
      "4    24.0(2.7)  31.7(0.0)   73.0(3.0)  78.2(1.2)  78.3(4.0)  \n",
      "5    50.0(0.0)  50.0(0.0)   58.0(9.2)  89.0(3.2)  73.0(7.9)  \n",
      "6    53.6(0.0)  53.6(0.0)   76.2(3.9)  78.1(0.7)  60.7(1.9)  \n",
      "7    16.7(1.6)  16.5(1.1)   21.5(2.2)  28.7(1.2)  33.0(6.8)  \n",
      "8   17.0(19.5)   8.0(0.0)   71.7(2.3)  76.8(1.1)  65.7(2.5)  \n",
      "10   50.6(1.4)  51.4(0.0)   73.3(4.2)  71.1(2.0)  72.3(6.3)  \n",
      "11   50.8(4.0)  53.9(0.0)  76.5(14.4)  88.2(0.9)  78.5(4.2)  \n",
      "12   35.1(0.0)  34.6(1.0)   79.7(1.3)  78.3(1.2)  78.1(0.7)  \n",
      "13  28.4(13.6)  21.9(0.0)   46.3(6.1)  56.6(0.8)  49.0(3.0)  \n",
      "14  31.0(11.3)  26.0(0.0)   53.4(5.9)  65.1(3.3)  66.4(6.6)  \n",
      "15   51.3(3.9)  49.3(0.0)   86.7(9.6)  93.2(1.9)  96.1(2.3)  \n",
      "16   74.8(0.0)  74.8(0.0)   74.9(0.2)  70.0(1.9)  74.8(0.0)   \u001b[00m\n"
     ]
    }
   ],
   "source": []
  },
  {
   "cell_type": "code",
   "execution_count": null,
   "metadata": {},
   "outputs": [],
   "source": []
  }
 ],
 "metadata": {
  "kernelspec": {
   "display_name": "Python 3.8.10 ('myenv': venv)",
   "language": "python",
   "name": "python3"
  },
  "language_info": {
   "codemirror_mode": {
    "name": "ipython",
    "version": 3
   },
   "file_extension": ".py",
   "mimetype": "text/x-python",
   "name": "python",
   "nbconvert_exporter": "python",
   "pygments_lexer": "ipython3",
   "version": "3.8.10"
  },
  "orig_nbformat": 4,
  "vscode": {
   "interpreter": {
    "hash": "5df48306a1a02dd4cc632c5a8ac1ab5eb1182b9be4617ea731dc139e6e5445fe"
   }
  }
 },
 "nbformat": 4,
 "nbformat_minor": 2
}
