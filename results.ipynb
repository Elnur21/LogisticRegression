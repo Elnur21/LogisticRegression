{
 "cells": [
  {
   "cell_type": "code",
   "execution_count": 2,
   "metadata": {},
   "outputs": [],
   "source": [
    "import pandas as pd\n",
    "import matplotlib.pyplot as plt\n",
    "import numpy as np\n",
    "\n",
    "def plot_pie_chart(original_labels, predicted_labels, title):\n",
    "    original_counts = pd.DataFrame(original_labels).value_counts()\n",
    "    predicted_counts = pd.DataFrame(predicted_labels).value_counts()\n",
    "    labelsTrain = []\n",
    "    for i in set(original_labels):\n",
    "        labelsTrain.append(f\"Class {i}\")\n",
    "    labelsTest = []\n",
    "    for i in set(predicted_labels):\n",
    "        labelsTest.append(f\"Class {i}\")\n",
    "    # Plotting the pies\n",
    "    fig, ax = plt.subplots(1, 2, figsize=(12, 6))\n",
    "\n",
    "\n",
    "    # Original Data Pie\n",
    "    ax[0].pie(original_counts, labels=labelsTrain, autopct='%1.1f%%', startangle=90)\n",
    "    ax[0].set_title('Original Data Classes')\n",
    "\n",
    "    # Predicted Data Pie\n",
    "    ax[1].pie(predicted_counts, labels=labelsTest, autopct='%1.1f%%', startangle=90)\n",
    "    ax[1].set_title('Predicted Data Classes')\n",
    "\n",
    "    fig.suptitle(title, fontsize=20)\n",
    "    # Display the plot\n",
    "    plt.show()"
   ]
  },
  {
   "cell_type": "code",
   "execution_count": 3,
   "metadata": {},
   "outputs": [],
   "source": [
    "from models import LogisticRegression\n",
    "# from constants import UNIVARIATE_DATASET_NAMES_2018\n",
    "from utils import read_dataset,  label_encoder\n",
    "\n",
    "UNIVARIATE_DATASET_NAMES_2018  = ['ArrowHead', 'Wine', 'FreezerSmallTrain', 'OliveOil', 'Car', 'BeetleFly',  'Yoga', 'InlineSkate', 'FaceAll', 'EOGVerticalSignal',  'Ham', 'MoteStrain','ProximalPhalanxTW',  'WordSynonyms', 'Lightning7', 'GunPointOldVersusYoung',  'Earthquakes' ]\n",
    "results=[]\n",
    "\n",
    "\n",
    "for dataset in UNIVARIATE_DATASET_NAMES_2018:\n",
    "    train_accuracies = []\n",
    "    test_accuracies = []\n",
    "    for i in range(10):\n",
    "        df = read_dataset(dataset)\n",
    "        X = df[dataset][0]\n",
    "        y = label_encoder(df[dataset][1])\n",
    "        model = LogisticRegression()\n",
    "        model.fit(X, y)\n",
    "        \n",
    "        y_pred_train = model.predict(X)\n",
    "\n",
    "        accuracy_train = model.score(y_pred_train, y)\n",
    "\n",
    "        y_pred_test = model.predict(df[dataset][2])\n",
    "\n",
    "        accuracy_test = model.score(y_pred_test, label_encoder(df[dataset][3]))\n",
    "\n",
    "        train_accuracies.append(accuracy_train)\n",
    "        test_accuracies.append(accuracy_test)\n",
    "    \n",
    "    # plot_pie_chart(y, y_pred_train, f\"{dataset} Train Dataset\")\n",
    "    # plot_pie_chart(df[dataset][3], y_pred_test, f\"{dataset} Test Dataset\")\n",
    "\n",
    "    # print(f\"{dataset} train: \",accuracy_train)\n",
    "    # print(f\"{dataset} test: \",accuracy_test)\n",
    "    mean_train_accuracy = np.mean(train_accuracies)\n",
    "    mean_test_accuracy = np.mean(test_accuracies)\n",
    "    results.append([dataset, \"%.2f\" % mean_train_accuracy, \"%.2f\" % mean_test_accuracy])\n",
    "\n"
   ]
  },
  {
   "cell_type": "code",
   "execution_count": 4,
   "metadata": {},
   "outputs": [],
   "source": [
    "results = pd.DataFrame(results, columns=[\"Dataset\",\"Train Accuracy\", \"Test Accuracy\"])"
   ]
  },
  {
   "cell_type": "code",
   "execution_count": 8,
   "metadata": {},
   "outputs": [
    {
     "name": "stdout",
     "output_type": "stream",
     "text": [
      "                   Dataset Train Accuracy Test Accuracy\n",
      "0                ArrowHead          95.56         73.54\n",
      "1                     Wine          51.93         60.93\n",
      "2        FreezerSmallTrain         100.00         68.79\n",
      "3                 OliveOil          47.67         43.00\n",
      "4                      Car          96.67         79.17\n",
      "5                BeetleFly         100.00         70.00\n",
      "6                     Yoga          70.83         62.24\n",
      "7              InlineSkate          74.40         22.91\n",
      "8                  FaceAll          81.09         64.46\n",
      "9        EOGVerticalSignal          62.51         26.44\n",
      "10                     Ham          97.52         68.57\n",
      "11              MoteStrain         100.00         83.54\n",
      "12       ProximalPhalanxTW          76.40         73.95\n",
      "13            WordSynonyms          71.72         37.82\n",
      "14              Lightning7         100.00         48.63\n",
      "15  GunPointOldVersusYoung          92.35         86.48\n",
      "16             Earthquakes          99.97         55.18\n"
     ]
    }
   ],
   "source": [
    "print(results)"
   ]
  },
  {
   "cell_type": "code",
   "execution_count": 9,
   "metadata": {},
   "outputs": [],
   "source": [
    "results.to_csv('results.csv', index=False)  "
   ]
  }
 ],
 "metadata": {
  "kernelspec": {
   "display_name": "Python 3.8.10 ('myenv': venv)",
   "language": "python",
   "name": "python3"
  },
  "language_info": {
   "codemirror_mode": {
    "name": "ipython",
    "version": 3
   },
   "file_extension": ".py",
   "mimetype": "text/x-python",
   "name": "python",
   "nbconvert_exporter": "python",
   "pygments_lexer": "ipython3",
   "version": "3.8.10"
  },
  "orig_nbformat": 4,
  "vscode": {
   "interpreter": {
    "hash": "5df48306a1a02dd4cc632c5a8ac1ab5eb1182b9be4617ea731dc139e6e5445fe"
   }
  }
 },
 "nbformat": 4,
 "nbformat_minor": 2
}
