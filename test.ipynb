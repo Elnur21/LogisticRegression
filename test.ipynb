{
 "cells": [
  {
   "cell_type": "code",
   "execution_count": 4,
   "metadata": {},
   "outputs": [
    {
     "name": "stdout",
     "output_type": "stream",
     "text": [
      "[[1.  2.5]\n",
      " [1.  2. ]\n",
      " [3.  4. ]]\n"
     ]
    }
   ],
   "source": [
    "import numpy as np \n",
    "  \n",
    "array_1 = [[1, 2.5], [1, 2]]\n",
    "array_2 = np.array([[3, 4]]) \n",
    "  \n",
    "array_new = np.concatenate((array_1, array_2)) \n",
    "print(array_new) "
   ]
  },
  {
   "cell_type": "code",
   "execution_count": null,
   "metadata": {},
   "outputs": [],
   "source": []
  }
 ],
 "metadata": {
  "kernelspec": {
   "display_name": "Python 3.8.10 ('myenv': venv)",
   "language": "python",
   "name": "python3"
  },
  "language_info": {
   "codemirror_mode": {
    "name": "ipython",
    "version": 3
   },
   "file_extension": ".py",
   "mimetype": "text/x-python",
   "name": "python",
   "nbconvert_exporter": "python",
   "pygments_lexer": "ipython3",
   "version": "3.8.10"
  },
  "orig_nbformat": 4,
  "vscode": {
   "interpreter": {
    "hash": "5df48306a1a02dd4cc632c5a8ac1ab5eb1182b9be4617ea731dc139e6e5445fe"
   }
  }
 },
 "nbformat": 4,
 "nbformat_minor": 2
}
